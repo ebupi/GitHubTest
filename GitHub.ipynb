{
 "cells": [
  {
   "cell_type": "markdown",
   "id": "8187bdb1-fb79-4490-95f0-cdb0d4dee52f",
   "metadata": {},
   "source": [
    "# GitHub ilk repo"
   ]
  },
  {
   "cell_type": "code",
   "execution_count": 1,
   "id": "041e948e-107c-4fa7-aac5-b2737715ab82",
   "metadata": {},
   "outputs": [
    {
     "name": "stdout",
     "output_type": "stream",
     "text": [
      "\u001b[33mhint: Using 'master' as the name for the initial branch. This default branch name\u001b[m\n",
      "\u001b[33mhint: is subject to change. To configure the initial branch name to use in all\u001b[m\n",
      "\u001b[33mhint: of your new repositories, which will suppress this warning, call:\u001b[m\n",
      "\u001b[33mhint: \u001b[m\n",
      "\u001b[33mhint: \tgit config --global init.defaultBranch <name>\u001b[m\n",
      "\u001b[33mhint: \u001b[m\n",
      "\u001b[33mhint: Names commonly chosen instead of 'master' are 'main', 'trunk' and\u001b[m\n",
      "\u001b[33mhint: 'development'. The just-created branch can be renamed via this command:\u001b[m\n",
      "\u001b[33mhint: \u001b[m\n",
      "\u001b[33mhint: \tgit branch -m <name>\u001b[m\n",
      "Initialized empty Git repository in /home/ebupi/BTK/Versiyon Kontrolu - Git ve Github/Github/.git/\n"
     ]
    }
   ],
   "source": [
    "!git init"
   ]
  },
  {
   "cell_type": "code",
   "execution_count": 2,
   "id": "9e554ad5-7441-4f08-a0c7-24945370d640",
   "metadata": {},
   "outputs": [],
   "source": [
    "!touch .gitignore"
   ]
  },
  {
   "cell_type": "code",
   "execution_count": 3,
   "id": "12e952b4-6524-44ae-9c17-860097ec1ba7",
   "metadata": {},
   "outputs": [
    {
     "name": "stdout",
     "output_type": "stream",
     "text": [
      "Gtk-\u001b[1;32mMessage\u001b[0m: \u001b[34m02:35:55.833\u001b[0m: Not loading module \"atk-bridge\": The functionality is provided by GTK natively. Please try to not load it.\n",
      "\n",
      "(gedit:10434): Gtk-\u001b[1;33mWARNING\u001b[0m **: \u001b[34m02:35:55.873\u001b[0m: GTK+ module /snap/gedit/684/gnome-platform/usr/lib/gtk-2.0/modules/libcanberra-gtk-module.so cannot be loaded.\n",
      "GTK+ 2.x symbols detected. Using GTK+ 2.x and GTK+ 3 in the same process is not supported.\n",
      "Gtk-\u001b[1;32mMessage\u001b[0m: \u001b[34m02:35:55.873\u001b[0m: Failed to load module \"canberra-gtk-module\"\n",
      "\n",
      "(gedit:10434): Gtk-\u001b[1;33mWARNING\u001b[0m **: \u001b[34m02:35:55.874\u001b[0m: GTK+ module /snap/gedit/684/gnome-platform/usr/lib/gtk-2.0/modules/libcanberra-gtk-module.so cannot be loaded.\n",
      "GTK+ 2.x symbols detected. Using GTK+ 2.x and GTK+ 3 in the same process is not supported.\n",
      "Gtk-\u001b[1;32mMessage\u001b[0m: \u001b[34m02:35:55.874\u001b[0m: Failed to load module \"canberra-gtk-module\"\n",
      "\n",
      "(gedit:10434): GLib-GIO-\u001b[1;33mWARNING\u001b[0m **: \u001b[34m02:35:55.981\u001b[0m: Error creating IO channel for /proc/self/mountinfo: Permission denied (g-file-error-quark, 2)\n",
      "\n",
      "** (gedit:10434): \u001b[1;33mWARNING\u001b[0m **: \u001b[34m02:36:21.075\u001b[0m: atk-bridge: get_device_events_reply: unknown signature\n"
     ]
    }
   ],
   "source": [
    "!gedit .gitignore"
   ]
  },
  {
   "cell_type": "code",
   "execution_count": 4,
   "id": "e87d2f90-af29-4a1a-a268-d7dca2d124b2",
   "metadata": {},
   "outputs": [
    {
     "name": "stdout",
     "output_type": "stream",
     "text": [
      "On branch master\n",
      "\n",
      "No commits yet\n",
      "\n",
      "Untracked files:\n",
      "  (use \"git add <file>...\" to include in what will be committed)\n",
      "\t\u001b[31m.gitignore\u001b[m\n",
      "\t\u001b[31mGitHub.ipynb\u001b[m\n",
      "\n",
      "nothing added to commit but untracked files present (use \"git add\" to track)\n"
     ]
    }
   ],
   "source": [
    "!git status"
   ]
  },
  {
   "cell_type": "code",
   "execution_count": 5,
   "id": "b702a028-1bc4-4c81-951d-1a6b8fe62d0b",
   "metadata": {},
   "outputs": [],
   "source": [
    "!touch readme.md"
   ]
  },
  {
   "cell_type": "code",
   "execution_count": null,
   "id": "7b60880e-a762-47f1-acac-0d7f958d455f",
   "metadata": {},
   "outputs": [],
   "source": []
  }
 ],
 "metadata": {
  "kernelspec": {
   "display_name": "Python 3 (ipykernel)",
   "language": "python",
   "name": "python3"
  },
  "language_info": {
   "codemirror_mode": {
    "name": "ipython",
    "version": 3
   },
   "file_extension": ".py",
   "mimetype": "text/x-python",
   "name": "python",
   "nbconvert_exporter": "python",
   "pygments_lexer": "ipython3",
   "version": "3.11.9"
  }
 },
 "nbformat": 4,
 "nbformat_minor": 5
}
