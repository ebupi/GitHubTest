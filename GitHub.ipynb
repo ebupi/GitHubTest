{
 "cells": [
  {
   "cell_type": "markdown",
   "id": "8187bdb1-fb79-4490-95f0-cdb0d4dee52f",
   "metadata": {},
   "source": [
    "# GitHub ilk repo"
   ]
  },
  {
   "cell_type": "code",
   "execution_count": 1,
   "id": "041e948e-107c-4fa7-aac5-b2737715ab82",
   "metadata": {},
   "outputs": [
    {
     "name": "stdout",
     "output_type": "stream",
     "text": [
      "\u001b[33mhint: Using 'master' as the name for the initial branch. This default branch name\u001b[m\n",
      "\u001b[33mhint: is subject to change. To configure the initial branch name to use in all\u001b[m\n",
      "\u001b[33mhint: of your new repositories, which will suppress this warning, call:\u001b[m\n",
      "\u001b[33mhint: \u001b[m\n",
      "\u001b[33mhint: \tgit config --global init.defaultBranch <name>\u001b[m\n",
      "\u001b[33mhint: \u001b[m\n",
      "\u001b[33mhint: Names commonly chosen instead of 'master' are 'main', 'trunk' and\u001b[m\n",
      "\u001b[33mhint: 'development'. The just-created branch can be renamed via this command:\u001b[m\n",
      "\u001b[33mhint: \u001b[m\n",
      "\u001b[33mhint: \tgit branch -m <name>\u001b[m\n",
      "Initialized empty Git repository in /home/ebupi/BTK/Versiyon Kontrolu - Git ve Github/Github/.git/\n"
     ]
    }
   ],
   "source": [
    "!git init"
   ]
  },
  {
   "cell_type": "code",
   "execution_count": 2,
   "id": "9e554ad5-7441-4f08-a0c7-24945370d640",
   "metadata": {},
   "outputs": [],
   "source": [
    "!touch .gitignore"
   ]
  },
  {
   "cell_type": "code",
   "execution_count": 3,
   "id": "12e952b4-6524-44ae-9c17-860097ec1ba7",
   "metadata": {},
   "outputs": [
    {
     "name": "stdout",
     "output_type": "stream",
     "text": [
      "Gtk-\u001b[1;32mMessage\u001b[0m: \u001b[34m02:35:55.833\u001b[0m: Not loading module \"atk-bridge\": The functionality is provided by GTK natively. Please try to not load it.\n",
      "\n",
      "(gedit:10434): Gtk-\u001b[1;33mWARNING\u001b[0m **: \u001b[34m02:35:55.873\u001b[0m: GTK+ module /snap/gedit/684/gnome-platform/usr/lib/gtk-2.0/modules/libcanberra-gtk-module.so cannot be loaded.\n",
      "GTK+ 2.x symbols detected. Using GTK+ 2.x and GTK+ 3 in the same process is not supported.\n",
      "Gtk-\u001b[1;32mMessage\u001b[0m: \u001b[34m02:35:55.873\u001b[0m: Failed to load module \"canberra-gtk-module\"\n",
      "\n",
      "(gedit:10434): Gtk-\u001b[1;33mWARNING\u001b[0m **: \u001b[34m02:35:55.874\u001b[0m: GTK+ module /snap/gedit/684/gnome-platform/usr/lib/gtk-2.0/modules/libcanberra-gtk-module.so cannot be loaded.\n",
      "GTK+ 2.x symbols detected. Using GTK+ 2.x and GTK+ 3 in the same process is not supported.\n",
      "Gtk-\u001b[1;32mMessage\u001b[0m: \u001b[34m02:35:55.874\u001b[0m: Failed to load module \"canberra-gtk-module\"\n",
      "\n",
      "(gedit:10434): GLib-GIO-\u001b[1;33mWARNING\u001b[0m **: \u001b[34m02:35:55.981\u001b[0m: Error creating IO channel for /proc/self/mountinfo: Permission denied (g-file-error-quark, 2)\n",
      "\n",
      "** (gedit:10434): \u001b[1;33mWARNING\u001b[0m **: \u001b[34m02:36:21.075\u001b[0m: atk-bridge: get_device_events_reply: unknown signature\n"
     ]
    }
   ],
   "source": [
    "!gedit .gitignore"
   ]
  },
  {
   "cell_type": "code",
   "execution_count": 4,
   "id": "e87d2f90-af29-4a1a-a268-d7dca2d124b2",
   "metadata": {},
   "outputs": [
    {
     "name": "stdout",
     "output_type": "stream",
     "text": [
      "On branch master\n",
      "\n",
      "No commits yet\n",
      "\n",
      "Untracked files:\n",
      "  (use \"git add <file>...\" to include in what will be committed)\n",
      "\t\u001b[31m.gitignore\u001b[m\n",
      "\t\u001b[31mGitHub.ipynb\u001b[m\n",
      "\n",
      "nothing added to commit but untracked files present (use \"git add\" to track)\n"
     ]
    }
   ],
   "source": [
    "!git status"
   ]
  },
  {
   "cell_type": "code",
   "execution_count": 5,
   "id": "b702a028-1bc4-4c81-951d-1a6b8fe62d0b",
   "metadata": {},
   "outputs": [],
   "source": [
    "!touch readme.md"
   ]
  },
  {
   "cell_type": "code",
   "execution_count": 7,
   "id": "7b60880e-a762-47f1-acac-0d7f958d455f",
   "metadata": {},
   "outputs": [
    {
     "name": "stdout",
     "output_type": "stream",
     "text": [
      "Gtk-\u001b[1;32mMessage\u001b[0m: \u001b[34m02:38:33.447\u001b[0m: Not loading module \"atk-bridge\": The functionality is provided by GTK natively. Please try to not load it.\n",
      "\n",
      "(gedit:11009): Gtk-\u001b[1;33mWARNING\u001b[0m **: \u001b[34m02:38:33.489\u001b[0m: GTK+ module /snap/gedit/684/gnome-platform/usr/lib/gtk-2.0/modules/libcanberra-gtk-module.so cannot be loaded.\n",
      "GTK+ 2.x symbols detected. Using GTK+ 2.x and GTK+ 3 in the same process is not supported.\n",
      "Gtk-\u001b[1;32mMessage\u001b[0m: \u001b[34m02:38:33.489\u001b[0m: Failed to load module \"canberra-gtk-module\"\n",
      "\n",
      "(gedit:11009): Gtk-\u001b[1;33mWARNING\u001b[0m **: \u001b[34m02:38:33.490\u001b[0m: GTK+ module /snap/gedit/684/gnome-platform/usr/lib/gtk-2.0/modules/libcanberra-gtk-module.so cannot be loaded.\n",
      "GTK+ 2.x symbols detected. Using GTK+ 2.x and GTK+ 3 in the same process is not supported.\n",
      "Gtk-\u001b[1;32mMessage\u001b[0m: \u001b[34m02:38:33.490\u001b[0m: Failed to load module \"canberra-gtk-module\"\n",
      "\n",
      "(gedit:11009): GLib-GIO-\u001b[1;33mWARNING\u001b[0m **: \u001b[34m02:38:33.541\u001b[0m: Error creating IO channel for /proc/self/mountinfo: Permission denied (g-file-error-quark, 2)\n"
     ]
    }
   ],
   "source": [
    "!gedit readme.md"
   ]
  },
  {
   "cell_type": "code",
   "execution_count": 8,
   "id": "4bcdc193-9237-47c4-aef5-fec51c6f8eed",
   "metadata": {},
   "outputs": [],
   "source": [
    "!git add ."
   ]
  },
  {
   "cell_type": "code",
   "execution_count": 9,
   "id": "20df39a8-ecff-4d1b-baa9-0d7ea379f5a3",
   "metadata": {},
   "outputs": [
    {
     "name": "stdout",
     "output_type": "stream",
     "text": [
      "[master (root-commit) f71c8b0] ilk kommit - btk\n",
      " 3 files changed, 150 insertions(+)\n",
      " create mode 100644 .gitignore\n",
      " create mode 100644 GitHub.ipynb\n",
      " create mode 100644 readme.md\n"
     ]
    }
   ],
   "source": [
    "!git commit -m \"ilk kommit - btk\""
   ]
  },
  {
   "cell_type": "markdown",
   "id": "6c7f6647-b63b-4933-9344-90a261f17b0a",
   "metadata": {},
   "source": [
    "origin = \"https://....\" bir isim linke isim veryioruz sürekli linki yazmamak için"
   ]
  },
  {
   "cell_type": "code",
   "execution_count": 10,
   "id": "1cde0100-08f7-4746-8b30-951d0133eda2",
   "metadata": {},
   "outputs": [],
   "source": [
    "!git remote add origin https://github.com/ebupi/GitHubTest.git"
   ]
  },
  {
   "cell_type": "code",
   "execution_count": 11,
   "id": "7b6db928-d39c-48fa-92b5-3b0388a15f9c",
   "metadata": {},
   "outputs": [
    {
     "name": "stdout",
     "output_type": "stream",
     "text": [
      "error: src refspec main does not match any\n",
      "\u001b[31merror: failed to push some refs to 'https://github.com/ebupi/GitHubTest.git'\n",
      "\u001b[m"
     ]
    }
   ],
   "source": [
    "!git push -u origin main"
   ]
  },
  {
   "cell_type": "code",
   "execution_count": 12,
   "id": "e01945ed-bcde-45b1-9807-f832eada8d8e",
   "metadata": {},
   "outputs": [
    {
     "name": "stdout",
     "output_type": "stream",
     "text": [
      "* \u001b[32mmaster\u001b[m\n"
     ]
    }
   ],
   "source": [
    "!git branch"
   ]
  },
  {
   "cell_type": "code",
   "execution_count": 13,
   "id": "fdca17f7-86c1-4b04-bfb6-2fb5f39e835e",
   "metadata": {},
   "outputs": [
    {
     "name": "stdout",
     "output_type": "stream",
     "text": [
      "Username for 'https://github.com': ^C\n"
     ]
    }
   ],
   "source": [
    "!git push -u origin master # bu kodu ubuntu da çalıştırdığımda giremedim \n",
    "#ssh bağlantısı kurup tekrar deneyeceğim"
   ]
  },
  {
   "cell_type": "code",
   "execution_count": null,
   "id": "fa517e48-2300-40eb-ade9-d95a8da6518e",
   "metadata": {},
   "outputs": [],
   "source": [
    "#ssh bağlantısı kurdum ubuntu için github hesabımla kernel yenileyceğim"
   ]
  },
  {
   "cell_type": "markdown",
   "id": "1d0000ba-d495-4e69-9a81-c06dfa50be58",
   "metadata": {},
   "source": [
    "yeniledikten sonra tekrar denedim ve başarısız oldu çünkü ilk remote işlemini https ile yapmıştık şimdi bu remote işlemini silip ssh ile bağlanacağım"
   ]
  },
  {
   "cell_type": "code",
   "execution_count": 1,
   "id": "26fa2138-899f-4282-98d2-d7f64f634a0d",
   "metadata": {},
   "outputs": [],
   "source": [
    "!git remote remove origin"
   ]
  },
  {
   "cell_type": "code",
   "execution_count": 2,
   "id": "591fd926-57c0-4449-bdf0-8700f123a8f6",
   "metadata": {},
   "outputs": [],
   "source": [
    "!git remote add origin git@github.com:ebupi/GitHubTest.git"
   ]
  },
  {
   "cell_type": "code",
   "execution_count": 3,
   "id": "b7cdd8fd-6ae2-4f13-9fb4-b6a6812dbcef",
   "metadata": {},
   "outputs": [
    {
     "name": "stdout",
     "output_type": "stream",
     "text": [
      "Enumerating objects: 5, done.\n",
      "Counting objects: 100% (5/5), done.\n",
      "Delta compression using up to 20 threads\n",
      "Compressing objects: 100% (4/4), done.\n",
      "Writing objects: 100% (5/5), 1.85 KiB | 948.00 KiB/s, done.\n",
      "Total 5 (delta 0), reused 0 (delta 0), pack-reused 0\n",
      "To github.com:ebupi/GitHubTest.git\n",
      " * [new branch]      master -> master\n",
      "branch 'master' set up to track 'origin/master'.\n"
     ]
    }
   ],
   "source": [
    "!git push -u origin master"
   ]
  },
  {
   "cell_type": "code",
   "execution_count": 4,
   "id": "8415ecf8-b46f-4445-816c-48e402985bcf",
   "metadata": {},
   "outputs": [
    {
     "name": "stdout",
     "output_type": "stream",
     "text": [
      "\u001b[33mcommit f71c8b0b3dfb6fbda4c1a61a6826484ca2184467\u001b[m\u001b[33m (\u001b[m\u001b[1;36mHEAD -> \u001b[m\u001b[1;32mmaster\u001b[m\u001b[33m, \u001b[m\u001b[1;31morigin/master\u001b[m\u001b[33m)\u001b[m\n",
      "Author: Ebubekir Atsız <eatsiz87@gmail.com>\n",
      "Date:   Wed Sep 25 02:39:13 2024 +0300\n",
      "\n",
      "    ilk kommit - btk\n"
     ]
    }
   ],
   "source": [
    "!git log"
   ]
  },
  {
   "cell_type": "code",
   "execution_count": 5,
   "id": "d420114e-df6d-4064-a9b4-f80875d082ae",
   "metadata": {},
   "outputs": [],
   "source": [
    "git config --global user.name \"Test Kullanicisi"
   ]
  },
  {
   "cell_type": "code",
   "execution_count": null,
   "id": "5a4cd43d-a602-4ede-afbb-46eae51e875e",
   "metadata": {},
   "outputs": [],
   "source": []
  }
 ],
 "metadata": {
  "kernelspec": {
   "display_name": "Python 3 (ipykernel)",
   "language": "python",
   "name": "python3"
  },
  "language_info": {
   "codemirror_mode": {
    "name": "ipython",
    "version": 3
   },
   "file_extension": ".py",
   "mimetype": "text/x-python",
   "name": "python",
   "nbconvert_exporter": "python",
   "pygments_lexer": "ipython3",
   "version": "3.11.9"
  }
 },
 "nbformat": 4,
 "nbformat_minor": 5
}
